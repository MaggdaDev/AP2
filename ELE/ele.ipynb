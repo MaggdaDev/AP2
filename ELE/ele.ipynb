{
 "cells": [
  {
   "cell_type": "code",
   "execution_count": 1,
   "metadata": {},
   "outputs": [],
   "source": [
    "import matplotlib.pyplot as plt\n",
    "import numpy as np\n",
    "from scipy.optimize import curve_fit as fit\n",
    "\n",
    "plt.rcParams['lines.linewidth'] = 1\n",
    "plt.rcParams['scatter.marker'] = \"x\"\n",
    "plt.rcParams['font.size'] = 12"
   ]
  },
  {
   "cell_type": "code",
   "execution_count": 2,
   "metadata": {},
   "outputs": [
    {
     "name": "stdout",
     "output_type": "stream",
     "text": [
      "iAmpereUConstR30Mean: 1.8981818181818182 +/- 0.016307636363636368\n",
      "iAmpereUConstR40Mean: 1.401818181818182 +/- 0.012932363636363638\n",
      "iAmpereUConstR50Mean: 1.1563636363636363 +/- 0.011263272727272728\n",
      "uVoltIConstR30Mean: 143.7 +/- 0.393584\n",
      "uVoltIConstR40Mean: 197.7 +/- 0.540464\n",
      "uVoltIConstR50Mean: 298.1 +/- 0.8135520000000002\n",
      "rDataMeter: [0.03 0.04 0.05]\n",
      "rDataMeterError: [0.00025 0.00025 0.00025]\n",
      "iConstAmpere: 1.5 +/- 0.04\n",
      "uConstVolt: 180 +/- 1.448\n"
     ]
    }
   ],
   "source": [
    "def uValueToError(u):\n",
    "    return 0.008 * u + 0.008\n",
    "def iValueToError(i):\n",
    "    return 0.02 * i + 0.010\n",
    "\n",
    "iAmpereUConstR30Mean = np.mean(np.array([\n",
    "    1.92, 1.91, 1.91, 1.91, 1.92, 1.89, 1.9, 1.88, 1.87, 1.87, 1.90\n",
    "]))\n",
    "iAmpereUConstR30MeanError = iValueToError(iAmpereUConstR30Mean) * 0.34\n",
    "\n",
    "iAmpereUConstR40Mean = np.mean(np.array([\n",
    "    1.40, 1.40, 1.41,1.42,1.41,1.39,1.41,1.39, 1.40, 1.40, 1.39\n",
    "]))\n",
    "iAmpereUConstR40MeanError = iValueToError(iAmpereUConstR40Mean) * 0.34\n",
    "\n",
    "iAmpereUConstR50Mean = np.mean(np.array([\n",
    "    1.15, 1.16, 1.16, 1.15, 1.16, 1.16, 1.15, 1.15, 1.16, 1.16, 1.16\n",
    "]))\n",
    "iAmpereUConstR50MeanError = iValueToError(iAmpereUConstR50Mean) * 0.34\n",
    "uConstVolt = 180\n",
    "uConstVoltError = uValueToError(uConstVolt)\n",
    "\n",
    "rDataMeter = 0.001 * np.array([30, 40, 50], dtype=np.float64)\n",
    "rDataMeterError = 0.001 * np.array([0.25, 0.25, 0.25], dtype=np.float64)\n",
    "\n",
    "uVoltIConstR30Mean = np.mean(np.array([\n",
    "    143, 143, 144, 144, 143, 144, 144, 144, 144, 144\n",
    "], dtype=np.float64))\n",
    "uVoltIConstR30MeanError = uValueToError(uVoltIConstR30Mean) * 0.34\n",
    "uVoltIConstR40Mean = np.mean(np.array([\n",
    "    195,197,197,199,200,197,200,198,198,196\n",
    "], dtype=np.float64))\n",
    "uVoltIConstR40MeanError = uValueToError(uVoltIConstR40Mean) * 0.34\n",
    "\n",
    "uVoltIConstR50Mean = np.mean(np.array([\n",
    "    299,297,299,298,299,295,299,298,300,297\n",
    "], dtype=np.float64))\n",
    "uVoltIConstR50MeanError = uValueToError(uVoltIConstR50Mean) * 0.34\n",
    "iConstAmpere = 1.5\n",
    "iConstAmpereError = iValueToError(iConstAmpere)\n",
    "\n",
    "\n",
    "# Print the i and u arrays for the 3 different r values with corresponding errors\n",
    "print(\"iAmpereUConstR30Mean:\", iAmpereUConstR30Mean, \"+/-\", iAmpereUConstR30MeanError)\n",
    "print(\"iAmpereUConstR40Mean:\", iAmpereUConstR40Mean, \"+/-\", iAmpereUConstR40MeanError)\n",
    "print(\"iAmpereUConstR50Mean:\", iAmpereUConstR50Mean, \"+/-\", iAmpereUConstR50MeanError)\n",
    "print(\"uVoltIConstR30Mean:\", uVoltIConstR30Mean, \"+/-\", uVoltIConstR30MeanError)\n",
    "print(\"uVoltIConstR40Mean:\", uVoltIConstR40Mean, \"+/-\", uVoltIConstR40MeanError)\n",
    "print(\"uVoltIConstR50Mean:\", uVoltIConstR50Mean, \"+/-\", uVoltIConstR50MeanError)\n",
    "\n",
    "# Print the r values\n",
    "print(\"rDataMeter:\", rDataMeter)\n",
    "print(\"rDataMeterError:\", rDataMeterError)\n",
    "\n",
    "# Print iConstAmpere and uConstVolt with errors\n",
    "print(\"iConstAmpere:\", iConstAmpere, \"+/-\", iConstAmpereError)\n",
    "print(\"uConstVolt:\", uConstVolt, \"+/-\", uConstVoltError)"
   ]
  },
  {
   "cell_type": "code",
   "execution_count": 3,
   "metadata": {},
   "outputs": [],
   "source": [
    "def calcPlottedValueFromQuantities(rSpule, u, i):\n",
    "    return np.sqrt(125.0 / 32.0) * (rSpule / (nSpule * mu0)) * np.sqrt(u) / i\n",
    "\n",
    "def getErrorForNthArgumentOfFunction(f, paramArray, indexOfToBeCalculatedErrorN, errorOfNthParam):\n",
    "    eps = 1e-5 * np.longdouble(paramArray[indexOfToBeCalculatedErrorN])\n",
    "    if eps == 0:\n",
    "        eps = 1e-10\n",
    "    eps = np.longdouble(eps)\n",
    "    paramsWithEps = np.array(paramArray, dtype=np.longdouble)\n",
    "    copiedParams = np.array(paramArray, dtype=np.longdouble)\n",
    "    paramsWithEps[indexOfToBeCalculatedErrorN] += eps\n",
    "    return (np.longdouble(f(*paramsWithEps)) - np.longdouble(f(*copiedParams))) * np.longdouble(errorOfNthParam) / eps\n",
    "\n",
    "def getCombinedErrorForAllParamsOfFunction(f, paramArray, errorArray):\n",
    "    return np.sqrt(np.sum([getErrorForNthArgumentOfFunction(f, paramArray, i, errorArray[i])**2 for i in range(len(paramArray))]))\n",
    "\n",
    "\n",
    "rSpuleMeter = 150 * 0.001\n",
    "rSpuleMeterErr = 2 * 0.001\n",
    "\n",
    "nSpule = 130\n",
    "mu0  = 4 * np.pi * 10**-7\n",
    "\n",
    "xValuesUConst = np.empty((0))\n",
    "yValuesUConst = np.empty((0))\n",
    "xErrorsUConst = np.empty((0))\n",
    "yErrorsUConst = np.empty((0))\n",
    "\n",
    "def fillErrorForPoint(r, rErr, u, uErr, i, iErr, xValues, yValues, xErrors, yErrors):\n",
    "    xValues = np.concatenate((xValues, [r]))\n",
    "    xErrors = np.concatenate((xErrors, [rErr]))\n",
    "    yValues = np.concatenate((yValues, [calcPlottedValueFromQuantities(rSpuleMeter, u, i)]))\n",
    "    yErrors = np.concatenate((yErrors, [getCombinedErrorForAllParamsOfFunction(calcPlottedValueFromQuantities, [rSpuleMeter, u, i], [rSpuleMeterErr, uErr, iErr])]))\n",
    "\n",
    "    return xValues, yValues, xErrors, yErrors\n",
    "\n",
    "xValuesUConst, yValuesUConst, xErrorsUConst, yErrorsUConst = fillErrorForPoint(\n",
    "    rDataMeter[0], rDataMeterError[0], uConstVolt, uConstVoltError, iAmpereUConstR30Mean, iAmpereUConstR30MeanError, xValuesUConst, yValuesUConst, xErrorsUConst, yErrorsUConst)\n",
    "\n",
    "xValuesUConst, yValuesUConst, xErrorsUConst, yErrorsUConst = fillErrorForPoint(\n",
    "    rDataMeter[1], rDataMeterError[1], uConstVolt, uConstVoltError, iAmpereUConstR40Mean, iAmpereUConstR40MeanError, xValuesUConst, yValuesUConst, xErrorsUConst, yErrorsUConst)\n",
    "xValuesUConst, yValuesUConst, xErrorsUConst, yErrorsUConst = fillErrorForPoint(\n",
    "    rDataMeter[2], rDataMeterError[2], uConstVolt, uConstVoltError, iAmpereUConstR50Mean, iAmpereUConstR50MeanError, xValuesUConst, yValuesUConst, xErrorsUConst, yErrorsUConst)\n",
    "\n",
    "xValuesIConst = np.empty((0))\n",
    "yValuesIConst = np.empty((0))\n",
    "xErrorsIConst = np.empty((0))\n",
    "yErrorsIConst = np.empty((0))\n",
    "\n",
    "\n",
    "\n",
    "xValuesIConst, yValuesIConst, xErrorsIConst, yErrorsIConst = fillErrorForPoint(\n",
    "    rDataMeter[0], rDataMeterError[0], uVoltIConstR30Mean, uVoltIConstR30MeanError, iConstAmpere, iConstAmpereError, xValuesIConst, yValuesIConst, xErrorsIConst, yErrorsIConst)\n",
    "xValuesIConst, yValuesIConst, xErrorsIConst, yErrorsIConst = fillErrorForPoint(\n",
    "    rDataMeter[1], rDataMeterError[1], uVoltIConstR40Mean, uVoltIConstR40MeanError, iConstAmpere, iConstAmpereError, xValuesIConst, yValuesIConst, xErrorsIConst, yErrorsIConst)\n",
    "xValuesIConst, yValuesIConst, xErrorsIConst, yErrorsIConst = fillErrorForPoint(\n",
    "    rDataMeter[2], rDataMeterError[2], uVoltIConstR50Mean, uVoltIConstR50MeanError, iConstAmpere, iConstAmpereError, xValuesIConst, yValuesIConst, xErrorsIConst, yErrorsIConst)\n",
    "\n"
   ]
  },
  {
   "cell_type": "code",
   "execution_count": 4,
   "metadata": {},
   "outputs": [
    {
     "name": "stdout",
     "output_type": "stream",
     "text": [
      "Slope (m): 414133.189099801\n",
      "Intercept (b): -0.0011668995176693493\n",
      "Slope uncertainty: 13925.28651644208\n",
      "Intercept uncertainty: 0.001325879612565959\n",
      "Specific Charge: 1.72e+11\n",
      "Specific Charge Error: 1.15e+10\n"
     ]
    },
    {
     "data": {
      "image/png": "[encoded data removed]",
      "text/plain": [
       "<Figure size 640x480 with 1 Axes>"
      ]
     },
     "metadata": {},
     "output_type": "display_data"
    }
   ],
   "source": [
    "plt.errorbar(1000 * xValuesUConst, 0.001*yValuesUConst, xerr=1000*xErrorsUConst, yerr=0.001*yErrorsUConst, fmt=\"s\", label=\"Konstante Spannung\", color=\"green\", capsize=2)\n",
    "plt.errorbar(1000 * xValuesIConst[1:], 0.001*yValuesIConst[1:], xerr=1000*xErrorsIConst[1:], yerr=0.001*yErrorsIConst[1:], fmt=\"^\", label=\"Konstanter Strom\", color=\"blue\", capsize=2)\n",
    "plt.errorbar(1000 * xValuesIConst[0], 0.001*yValuesIConst[0], xerr=1000*xErrorsIConst[0], yerr=0.001*yErrorsIConst[0], fmt=\"D\", color=\"red\", alpha=0.5, capsize=2, label=\"Konstanter Strom (ausreißer)\")    \n",
    "\n",
    "plt.xlabel(r\"$r_\\text{k}$ in mm\")\n",
    "plt.ylabel(r\"y in $\\text{km} \\sqrt{\\frac{\\text{C}}{\\text{kg}}}$\")\n",
    "\n",
    "rFitValues = np.array([rDataMeter[0], rDataMeter[1], rDataMeter[1], rDataMeter[2], rDataMeter[2]])\n",
    "yFitValues = np.array([yValuesUConst[0], yValuesUConst[1], yValuesIConst[1], yValuesUConst[2], yValuesIConst[2]])\n",
    "yFitErrors = np.array([yErrorsUConst[0], yErrorsUConst[1], yErrorsIConst[1], yErrorsUConst[2], yErrorsIConst[2]])\n",
    "\n",
    "# BEGIN: Fit function\n",
    "def linear_fit(x, m, b):\n",
    "    return m * (x - b)\n",
    "# END: Fit function\n",
    "\n",
    "# Fit the function\n",
    "fit_params, fit_cov = fit(linear_fit, rFitValues, yFitValues, sigma=yFitErrors, p0=[814854, 0])\n",
    "\n",
    "# Extract the fit parameters\n",
    "m = fit_params[0]\n",
    "b = fit_params[1]\n",
    "\n",
    "# Extract the uncertainties\n",
    "m_err = np.sqrt(fit_cov[0, 0])\n",
    "b_err = np.sqrt(fit_cov[1, 1])\n",
    "\n",
    "# Print the results\n",
    "print(\"Slope (m):\", m)\n",
    "print(\"Intercept (b):\", b)\n",
    "print(\"Slope uncertainty:\", m_err)\n",
    "print(\"Intercept uncertainty:\", b_err)\n",
    "\n",
    "# Plot the linear fit\n",
    "plt.plot(1000*rFitValues, 0.001*linear_fit(rFitValues, m, b), label=\"linearer Fit\", color=\"black\")\n",
    "\n",
    "\n",
    "plt.legend()\n",
    "\n",
    "# Calculate the specific charge\n",
    "specific_charge = m**2\n",
    "specific_charge_err = 2 * m * m_err\n",
    "\n",
    "# Print the result with its error\n",
    "print(\"Specific Charge: {:.2e}\".format(specific_charge))\n",
    "print(\"Specific Charge Error: {:.2e}\".format(specific_charge_err))"
   ]
  },
  {
   "cell_type": "code",
   "execution_count": 8,
   "metadata": {},
   "outputs": [
    {
     "name": "stdout",
     "output_type": "stream",
     "text": [
      "deltaI: 0.051329029573354126\n"
     ]
    }
   ],
   "source": [
    "\n",
    "bErde = 20.0 * 0.001 * 0.001\n",
    "deltaI = 2 * ((5/4)**(1.5)) * (rSpuleMeter / (nSpule * mu0)) * bErde\n",
    "print(\"deltaI:\", deltaI)\n"
   ]
  },
  {
   "cell_type": "code",
   "execution_count": null,
   "metadata": {},
   "outputs": [],
   "source": []
  }
 ],
 "metadata": {
  "kernelspec": {
   "display_name": "Python 3",
   "language": "python",
   "name": "python3"
  },
  "language_info": {
   "codemirror_mode": {
    "name": "ipython",
    "version": 3
   },
   "file_extension": ".py",
   "mimetype": "text/x-python",
   "name": "python",
   "nbconvert_exporter": "python",
   "pygments_lexer": "ipython3",
   "version": "3.10.7"
  },
  "orig_nbformat": 4,
  "vscode": {
   "interpreter": {
    "hash": "c261aea317cc0286b3b3261fbba9abdec21eaa57589985bb7a274bf54d6cc0a7"
   }
  }
 },
 "nbformat": 4,
 "nbformat_minor": 2
}

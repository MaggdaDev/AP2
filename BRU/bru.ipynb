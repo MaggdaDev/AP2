{
 "cells": [
  {
   "cell_type": "code",
   "execution_count": 2,
   "metadata": {},
   "outputs": [],
   "source": [
    "import numpy as np\n",
    "import matplotlib.pyplot as plt\n"
   ]
  },
  {
   "cell_type": "code",
   "execution_count": 21,
   "metadata": {},
   "outputs": [],
   "source": [
    "def getErrorForNthArgumentOfFunction(f, paramArray, indexOfToBeCalculatedErrorN, errorOfNthParam):\n",
    "    eps = 1e-10 * np.longdouble(paramArray[indexOfToBeCalculatedErrorN])\n",
    "    if isinstance(eps, np.ndarray):\n",
    "        epsIs0 = (eps == 0).astype(int).astype(np.float64)\n",
    "        eps += epsIs0 * 1e-10\n",
    "    else:\n",
    "        if eps == 0:\n",
    "            eps = 1e-10\n",
    "    eps = np.longdouble(eps)\n",
    "    paramsWithEps = np.array(paramArray, dtype=np.longdouble)\n",
    "    copiedParams = np.array(paramArray, dtype=np.longdouble)\n",
    "    paramsWithEps[indexOfToBeCalculatedErrorN] += eps\n",
    "    return (np.longdouble(f(*paramsWithEps)) - np.longdouble(f(*copiedParams))) * np.longdouble(errorOfNthParam) / eps\n",
    "\n",
    "def getCombinedErrorForAllParamsOfFunction(f, paramArray, errorArray):\n",
    "    return np.sqrt(np.sum([getErrorForNthArgumentOfFunction(f, paramArray, i, errorArray[i])**2 for i in range(len(paramArray))], axis=0))\n",
    "\n",
    "def getWeightedMeanAndExternalUnsure(values, unsures):\n",
    "    weights = 1/((unsures**2.0) * np.sum(1/(unsures**2.0)))\n",
    "    weightedMean = np.dot(values, weights)\n",
    "    extUnsure = np.sqrt((np.sum(np.dot(weights, (values-weightedMean) * (values -weightedMean))))/(len(values)-1))\n",
    "    return weightedMean, extUnsure"
   ]
  },
  {
   "cell_type": "code",
   "execution_count": 41,
   "metadata": {},
   "outputs": [
    {
     "name": "stdout",
     "output_type": "stream",
     "text": [
      "[ 95.26315789 104.52914798 102.22446916]\n",
      "[3.4579123  2.089984   1.59691115]\n",
      "Widerstand: (102.14704125820268 +/- 1.932691767533439)\n"
     ]
    }
   ],
   "source": [
    "a1_AValues = np.array([0.95, 2.23, 4.945])\n",
    "a1_AValuesError = np.ones_like(a1_AValues) * 0.03\n",
    "a1_RValues = np.array([10,30,100], dtype=np.float64)\n",
    "a1_RValuesError = a1_RValues * 0.01\n",
    "\n",
    "def a1_calcPotentiometerWiderstand(aValues, rValues):\n",
    "    return ((10.0 - aValues) / (aValues)) * rValues\n",
    "\n",
    "a1_potentiometerWiderstand = a1_calcPotentiometerWiderstand(a1_AValues, a1_RValues)\n",
    "a1_potentiometerWiderstandErr = getCombinedErrorForAllParamsOfFunction(a1_calcPotentiometerWiderstand, np.array([a1_AValues\n",
    ", a1_RValues]), np.array([a1_AValuesError, a1_RValuesError]))\n",
    "print(a1_potentiometerWiderstand)\n",
    "print(a1_potentiometerWiderstandErr)\n",
    "\n",
    "a1_potentiometerWiderstandWeightedMean, a1_potentiometerWiderstandWeightedMeanError = getWeightedMeanAndExternalUnsure(a1_potentiometerWiderstand, a1_potentiometerWiderstandErr)\n",
    "\n",
    "print(\"Widerstand: ({} +/- {})\".format(a1_potentiometerWiderstandWeightedMean, a1_potentiometerWiderstandWeightedMeanError))"
   ]
  },
  {
   "cell_type": "code",
   "execution_count": 48,
   "metadata": {},
   "outputs": [
    {
     "name": "stdout",
     "output_type": "stream",
     "text": [
      "[0.66098081 0.35196687 0.40582726 9.92031873]\n",
      "[0.03473171 0.03234108 0.0327369  0.15496182]\n"
     ]
    }
   ],
   "source": [
    "def rToErr(r):\n",
    "    return r * 0.01\n",
    "def aToErr(a):\n",
    "    return 0 * a + 0.03\n",
    "a2_r = np.array([10.0,10.0,10.0,10.0], dtype=np.float64)\n",
    "a2_rErr = rToErr(a2_r)\n",
    "a2_a = np.array([9.38, 9.66, 9.61, 5.02])\n",
    "a2_aErr = aToErr(a2_a)\n",
    "\n",
    "a2_r2 = a1_calcPotentiometerWiderstand(a2_a, a2_r)\n",
    "print(a2_r2)\n",
    "a2_r2Err = getCombinedErrorForAllParamsOfFunction(a1_calcPotentiometerWiderstand, np.array([a2_a, a2_r]), np.array([a2_aErr, a2_rErr]))\n",
    "print(a2_r2Err)\n",
    "\n"
   ]
  }
 ],
 "metadata": {
  "kernelspec": {
   "display_name": "Python 3",
   "language": "python",
   "name": "python3"
  },
  "language_info": {
   "codemirror_mode": {
    "name": "ipython",
    "version": 3
   },
   "file_extension": ".py",
   "mimetype": "text/x-python",
   "name": "python",
   "nbconvert_exporter": "python",
   "pygments_lexer": "ipython3",
   "version": "3.11.4"
  },
  "orig_nbformat": 4,
  "vscode": {
   "interpreter": {
    "hash": "c261aea317cc0286b3b3261fbba9abdec21eaa57589985bb7a274bf54d6cc0a7"
   }
  }
 },
 "nbformat": 4,
 "nbformat_minor": 2
}
